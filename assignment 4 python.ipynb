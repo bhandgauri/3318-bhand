{
 "cells": [
  {
   "cell_type": "code",
   "execution_count": 21,
   "id": "c8481ae0",
   "metadata": {},
   "outputs": [
    {
     "name": "stdout",
     "output_type": "stream",
     "text": [
      "Lines: 5\n",
      "Words: 10\n",
      "Symbols: 96\n"
     ]
    }
   ],
   "source": [
    "#python program to read an entire text file.\n",
    "file = open('gauri.py')\n",
    "\n",
    "lines = 0\n",
    "words = 0\n",
    "symbols = 0\n",
    "\n",
    "for line in file:\n",
    "    lines += 1\n",
    "    words += len(line.split())\n",
    "    symbols += len(line.strip('\\n'))\n",
    "\n",
    "print(\"Lines:\", lines)\n",
    "print(\"Words:\", words)\n",
    "print(\"Symbols:\", symbols)\n"
   ]
  },
  {
   "cell_type": "code",
   "execution_count": 22,
   "id": "3ccd6569",
   "metadata": {},
   "outputs": [
    {
     "name": "stdout",
     "output_type": "stream",
     "text": [
      "n=int(input(\"enter number:\"))\n",
      "print(\"factors=\")\n",
      "for i in range(1,n):\n",
      "    if n%i==0:\n",
      "        print(i)\n"
     ]
    }
   ],
   "source": [
    "#python program to read an entire text file.\n",
    "def file_read(fname):\n",
    "        txt = open(fname)\n",
    "        print(txt.read())\n",
    "file_read('gauri.py')\n"
   ]
  },
  {
   "cell_type": "code",
   "execution_count": 13,
   "id": "28fc3624",
   "metadata": {},
   "outputs": [
    {
     "name": "stdout",
     "output_type": "stream",
     "text": [
      "Sat Dec 03 07:47:06 US Eastern Standard Time 2022\n"
     ]
    }
   ],
   "source": [
    "#python script to print the current date in the following format.\n",
    "# \"Sun May 29 02:26:23 IST 2017\"\n",
    "import time; \n",
    "ltime=time.localtime();\n",
    "print(time.strftime(\"%a %b %d %H:%M:%S %Z %Y\",ltime));\n"
   ]
  },
  {
   "cell_type": "code",
   "execution_count": 23,
   "id": "e8e5cf97",
   "metadata": {},
   "outputs": [
    {
     "name": "stdout",
     "output_type": "stream",
     "text": [
      "n=int(input(\"enter number:\"))\n",
      "print(\"factors=\")\n",
      "for i in range(1,n):\n",
      "    if n%i==0:\n",
      "        print(i)appending line 1, appending line 2. \n"
     ]
    }
   ],
   "source": [
    "#python program to append text to a file and display the text.\n",
    "def Appendtext(fname):\n",
    "    with open(fname,'a+') as f:\n",
    "        f.write('appending line 1, ')\n",
    "        f.write('appending line 2. ')\n",
    "    f.close()\n",
    "Appendtext('gauri.py')\n",
    "\n",
    "x= open('gauri.py')\n",
    "print(x.read())\n",
    "\n",
    "\n",
    "     "
   ]
  },
  {
   "cell_type": "code",
   "execution_count": 24,
   "id": "e0ff6606",
   "metadata": {},
   "outputs": [
    {
     "name": "stdout",
     "output_type": "stream",
     "text": [
      "Enter file name: gauri.py\n",
      "        print(i)appending line 1, appending line 2.\n",
      "    if n%i==0:\n",
      "for i in range(1,n):\n",
      "print(\"factors=\")\n",
      "n=int(input(\"enter number:\"))\n"
     ]
    }
   ],
   "source": [
    "#python program to print each line of a file in reverse order.\n",
    "filename=input(\"Enter file name: \")\n",
    "for line in reversed(list(open(filename))):\n",
    "    print(line.rstrip())\n"
   ]
  },
  {
   "cell_type": "code",
   "execution_count": 25,
   "id": "3d9901fd",
   "metadata": {},
   "outputs": [
    {
     "name": "stdout",
     "output_type": "stream",
     "text": [
      "Current date and time : \n",
      "2022-12-03 08:16:34\n"
     ]
    }
   ],
   "source": [
    "#python program to print date,time for today and now.\n",
    "import datetime\n",
    "now = datetime.datetime.now()\n",
    "print (\"Current date and time : \")\n",
    "print (now.strftime(\"%Y-%m-%d %H:%M:%S\"))\n"
   ]
  }
 ],
 "metadata": {
  "kernelspec": {
   "display_name": "Python 3 (ipykernel)",
   "language": "python",
   "name": "python3"
  },
  "language_info": {
   "codemirror_mode": {
    "name": "ipython",
    "version": 3
   },
   "file_extension": ".py",
   "mimetype": "text/x-python",
   "name": "python",
   "nbconvert_exporter": "python",
   "pygments_lexer": "ipython3",
   "version": "3.9.12"
  }
 },
 "nbformat": 4,
 "nbformat_minor": 5
}
