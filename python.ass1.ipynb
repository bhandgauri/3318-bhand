{
 "cells": [
  {
   "cell_type": "code",
   "execution_count": 1,
   "id": "3f675cf7",
   "metadata": {},
   "outputs": [
    {
     "name": "stdout",
     "output_type": "stream",
     "text": [
      "enter the base:5\n",
      "enter the height:6\n",
      "area= 15.0\n"
     ]
    }
   ],
   "source": [
    "#assignment 1:python basics and IDL,simple python programs\n",
    "#write program  to calculate the Area of a triangle\n",
    "b=int(input(\"enter the base:\"))\n",
    "h=int(input(\"enter the height:\"))\n",
    "area=1/2*(b*h)\n",
    "print(\"area=\",area)"
   ]
  },
  {
   "cell_type": "code",
   "execution_count": 2,
   "id": "1ff289a5",
   "metadata": {},
   "outputs": [
    {
     "name": "stdout",
     "output_type": "stream",
     "text": [
      "enter first number:3\n",
      "enter second number:4\n",
      "number before swapping\n",
      "num1= 3\n",
      "num2= 4\n",
      "nuber after swapping\n",
      "num1= 4\n",
      "num2= 3\n"
     ]
    }
   ],
   "source": [
    "#python program to swap two  variables\n",
    "num1=input(\"enter first number:\")\n",
    "num2=input(\"enter second number:\")\n",
    "print(\"number before swapping\")\n",
    "print(\"num1=\",num1)\n",
    "print(\"num2=\",num2)\n",
    "temp=num1\n",
    "num1=num2\n",
    "num2=temp\n",
    "print(\"nuber after swapping\")\n",
    "print(\"num1=\",num1)\n",
    "print(\"num2=\",num2)"
   ]
  },
  {
   "cell_type": "code",
   "execution_count": 3,
   "id": "029e512b",
   "metadata": {},
   "outputs": [
    {
     "name": "stdout",
     "output_type": "stream",
     "text": [
      "4\n"
     ]
    }
   ],
   "source": [
    "#python program to Generate a random number\n",
    "import random\n",
    "print(random.randint(0,5))"
   ]
  },
  {
   "cell_type": "code",
   "execution_count": 7,
   "id": "ea03748c",
   "metadata": {},
   "outputs": [
    {
     "name": "stdout",
     "output_type": "stream",
     "text": [
      "enter a number:-1\n",
      "negative number\n"
     ]
    }
   ],
   "source": [
    "#write a python program to check if a number is positive,negative or zero\n",
    "num=float(input(\"enter a number:\"))\n",
    "if num>0:\n",
    "    print(\"positive number\")\n",
    "elif num==0:\n",
    "    print(\"zero\")\n",
    "else:\n",
    "    print(\"negative number\")"
   ]
  },
  {
   "cell_type": "code",
   "execution_count": 4,
   "id": "403786e5",
   "metadata": {},
   "outputs": [
    {
     "name": "stdout",
     "output_type": "stream",
     "text": [
      "enter number:2\n",
      "number is even\n",
      "number is even\n"
     ]
    }
   ],
   "source": [
    "#write a python program to check if a number odd or even\n",
    "n=int(input(\"enter number:\"))\n",
    "\n",
    "for i in range(0,n):\n",
    "    if n%2==0:\n",
    "    \n",
    "    \n",
    "    \n",
    "        print(\"number is even\")\n",
    "    else:\n",
    "        print(\"number is odd\")"
   ]
  },
  {
   "cell_type": "code",
   "execution_count": 13,
   "id": "c67ab5cc",
   "metadata": {},
   "outputs": [
    {
     "name": "stdout",
     "output_type": "stream",
     "text": [
      "enter number:153\n",
      "153 number is prime\n"
     ]
    }
   ],
   "source": [
    "#write a python program to check  number is prime \n",
    "n=int(input(\"enter number:\"))\n",
    "num=n\n",
    "sum=0\n",
    "while n>0:\n",
    "    d=n%10\n",
    "    sum=sum+d*d*d\n",
    "    n= int (n/10)\n",
    "if  num==sum:\n",
    "    print(num,\"number is prime\")\n",
    "else:\n",
    "    print(num,\"number is not prime\")"
   ]
  },
  {
   "cell_type": "code",
   "execution_count": 15,
   "id": "d1a23613",
   "metadata": {},
   "outputs": [
    {
     "name": "stdout",
     "output_type": "stream",
     "text": [
      "enter no:5\n",
      "factorial= 120\n"
     ]
    }
   ],
   "source": [
    "#write a python program to find the factorial of a number\n",
    "n=input(\"enter no:\")\n",
    "n=int(n)\n",
    "f=1\n",
    "while n>0:\n",
    "    f=f*n\n",
    "    n=n-1\n",
    "print(\"factorial=\",f)"
   ]
  },
  {
   "cell_type": "code",
   "execution_count": 1,
   "id": "619d4941",
   "metadata": {},
   "outputs": [
    {
     "name": "stdout",
     "output_type": "stream",
     "text": [
      "enter a number:153\n",
      "153 is armstrong\n"
     ]
    }
   ],
   "source": [
    "#write a python program to check armstrong number\n",
    "n=int(input('enter a number:'))\n",
    "num=n\n",
    "sum=0\n",
    "while(n>0):\n",
    "    rem=n%10\n",
    "    sum=sum+rem*rem*rem\n",
    "    n=int(n/10)\n",
    "if num==sum:\n",
    "    print(num,\"is armstrong\")\n",
    "else:\n",
    "    print(num,\"is not armstrong\")"
   ]
  }
 ],
 "metadata": {
  "kernelspec": {
   "display_name": "Python 3 (ipykernel)",
   "language": "python",
   "name": "python3"
  },
  "language_info": {
   "codemirror_mode": {
    "name": "ipython",
    "version": 3
   },
   "file_extension": ".py",
   "mimetype": "text/x-python",
   "name": "python",
   "nbconvert_exporter": "python",
   "pygments_lexer": "ipython3",
   "version": "3.9.12"
  }
 },
 "nbformat": 4,
 "nbformat_minor": 5
}
