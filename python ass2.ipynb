{
 "cells": [
  {
   "cell_type": "code",
   "execution_count": 9,
   "id": "025da1e1",
   "metadata": {},
   "outputs": [
    {
     "name": "stdout",
     "output_type": "stream",
     "text": [
      "enter string:madam\n",
      "not symmetrical\n"
     ]
    }
   ],
   "source": [
    "#assignment 2:string and function\n",
    "#write a python programe to check whether the string is symmetrical or palindrom\n",
    "s=input(\"enter string:\")\n",
    "n=len(s)\n",
    "flag=0\n",
    "if n%2==0:\n",
    "    i=0\n",
    "    i=n//2\n",
    "    while i<n//2 and j<n:\n",
    "        if s[i]==s[j]:\n",
    "            i=i+1\n",
    "            j=j+1\n",
    "        else:\n",
    "            flag=1\n",
    "        break\n",
    "else:\n",
    "        flag=1\n",
    "if flag==0:\n",
    "        print(\"symmetrical\")\n",
    "else:\n",
    "        print(\"not symmetrical\")\n",
    "        \n",
    "i=0\n",
    "j=n-1\n",
    "flag=0\n",
    "while i<n:\n",
    "    if(s[i]==s[n-1]):\n",
    "        i=i+1\n",
    "        j=j+1\n",
    "    else:\n",
    "        flag=1\n",
    "        break\n",
    "        if flag==10:\n",
    "            print(\"string is palindrome\")\n",
    "        else:\n",
    "            print(\"not palindrome\")\n"
   ]
  },
  {
   "cell_type": "code",
   "execution_count": 10,
   "id": "2989d356",
   "metadata": {},
   "outputs": [
    {
     "name": "stdout",
     "output_type": "stream",
     "text": [
      "enter string:gauri\n",
      "i   r   u   a   g   "
     ]
    }
   ],
   "source": [
    "#write a python program to reverse words in agivin string\n",
    "s=input(\"enter string:\")\n",
    "w=s.split()\n",
    "for s1 in w:\n",
    "    for i in range(len(s1)-1,-1,-1):\n",
    "        print(s1[i],end=\" \")\n",
    "        print(\" \",end=\" \")"
   ]
  },
  {
   "cell_type": "code",
   "execution_count": 11,
   "id": "dbe17272",
   "metadata": {},
   "outputs": [
    {
     "name": "stdout",
     "output_type": "stream",
     "text": [
      "enter stringgauri\n",
      "enter i th position:2\n",
      "after removing i th character= gari\n"
     ]
    }
   ],
   "source": [
    "#write a python program to remove 'i' th character from string in different ways\n",
    "s=input(\"enter string\")\n",
    "i=int(input(\"enter i th position:\"))\n",
    "s1=s[0:i]+s[i+1:]\n",
    "print(\"after removing i th character=\",s1)"
   ]
  },
  {
   "cell_type": "code",
   "execution_count": 28,
   "id": "5725a961",
   "metadata": {},
   "outputs": [
    {
     "name": "stdout",
     "output_type": "stream",
     "text": [
      "greater no= 60\n"
     ]
    }
   ],
   "source": [
    "#write a python function to find  the max of  three number\n",
    "def maximum(a,b,c):\n",
    "    if a>b and a>c:\n",
    "         print(\"greater no=\",a)\n",
    "\n",
    "         \n",
    "    elif b>a and a>c:\n",
    "         print(\"greater no=\",b)\n",
    "\n",
    "    else:\n",
    "        print(\"greater no=\",c)\n",
    "maximum(30,50,60)\n"
   ]
  },
  {
   "cell_type": "code",
   "execution_count": 4,
   "id": "805aa655",
   "metadata": {},
   "outputs": [
    {
     "name": "stdout",
     "output_type": "stream",
     "text": [
      "11\n",
      "16\n",
      "33\n",
      "51\n",
      "74\n"
     ]
    }
   ],
   "source": [
    "#write a python function to sum all the number in a \n",
    "total =0\n",
    "list1=[11,5,17,18,23]\n",
    "for ele in range(0,len(list1)):\n",
    "    total=total+list1[ele]\n",
    "    print( \"sum of all elements in given list\",total)"
   ]
  },
  {
   "cell_type": "code",
   "execution_count": 5,
   "id": "b9d40625",
   "metadata": {},
   "outputs": [
    {
     "name": "stdout",
     "output_type": "stream",
     "text": [
      "the original string is:gauri\n",
      "the reversed string(using loops)is:iruag \n"
     ]
    }
   ],
   "source": [
    "#write a python program to reverse a string\n",
    "def reverse(s):\n",
    "    str=\" \"\n",
    "    for i in s:\n",
    "        str=i+str\n",
    "    return str\n",
    "s=\"gauri\"\n",
    "print(\"the original string is:\",end=\"\")\n",
    "print(s)\n",
    "print(\"the reversed string(using loops)is:\",end=\"\")\n",
    "print(reverse(s))\n"
   ]
  },
  {
   "cell_type": "code",
   "execution_count": 9,
   "id": "04d970f2",
   "metadata": {},
   "outputs": [
    {
     "name": "stdout",
     "output_type": "stream",
     "text": [
      "this\n",
      "is\n",
      "python\n",
      "language\n"
     ]
    }
   ],
   "source": [
    "#write a python program to print even length words in a string\n",
    "n=\"this is a python language\"\n",
    "s=n.split(\" \")\n",
    "for i in s:\n",
    "    if len(i)%2==0:\n",
    "        print(i)"
   ]
  },
  {
   "cell_type": "code",
   "execution_count": 11,
   "id": "a25525b4",
   "metadata": {},
   "outputs": [
    {
     "name": "stdout",
     "output_type": "stream",
     "text": [
      "enter string:grfd\n",
      "not accepted\n",
      "not accepted\n",
      "not accepted\n",
      "not accepted\n"
     ]
    }
   ],
   "source": [
    "#write a python program to accept the strng which contains all vowelse\n",
    "s=input(\"enter string:\")\n",
    "a=set([])\n",
    "vowels={'a','e','i','o','u'}\n",
    "for ch in s:\n",
    "    a.add(ch)\n",
    "    if len(a)==s:\n",
    "        print(\"accepted\")\n",
    "    else:\n",
    "        print(\"not accepted\")"
   ]
  },
  {
   "cell_type": "code",
   "execution_count": 12,
   "id": "6b242758",
   "metadata": {},
   "outputs": [
    {
     "name": "stdout",
     "output_type": "stream",
     "text": [
      "enter string 1:gauri\n",
      "enter string 2:bhand\n",
      "number of char same = 1\n"
     ]
    }
   ],
   "source": [
    "#write a python program to count the number of matching characters in a pair of string\n",
    "s1=input(\"enter string 1:\")\n",
    "s2=input(\"enter string 2:\")\n",
    "a=set([])\n",
    "for ch in s1:\n",
    "    if ch in s2:\n",
    "        a.add(ch)\n",
    "        print(\"number of char same =\",len(a))"
   ]
  },
  {
   "cell_type": "code",
   "execution_count": 17,
   "id": "27df0322",
   "metadata": {},
   "outputs": [
    {
     "name": "stdout",
     "output_type": "stream",
     "text": [
      "the unique values form list is\n",
      "[10 20 30 40 50]\n"
     ]
    }
   ],
   "source": [
    "#write a python function that takes a list and return a new list with unique elements of the first list\n",
    "import numpy as np\n",
    "def unique(list1):\n",
    "    x=np.array(list1)\n",
    "    print(np.unique(x))\n",
    "list1=[10,20,30,10,20,40,50,10]\n",
    "print(\"the unique values form list is\")\n",
    "unique(list1)\n",
    "            \n",
    "    "
   ]
  },
  {
   "cell_type": "code",
   "execution_count": 31,
   "id": "51f6c11c",
   "metadata": {},
   "outputs": [
    {
     "name": "stdout",
     "output_type": "stream",
     "text": [
      "enter a number:4\n",
      "not prime\n"
     ]
    }
   ],
   "source": [
    "#write a python function that takes a number as parameter and check the number is prime or not\n",
    "def prime(num):\n",
    "    count=0\n",
    "    if num>1:\n",
    "        for i in range(2,int(input(\"enter a number:\"))+1):\n",
    "            if i%num==0:\n",
    "                count=count+1\n",
    "                if count==2:\n",
    "                    print(\"number is prime\")\n",
    "                else:\n",
    "                        print(\"not prime\")\n",
    "prime(4)"
   ]
  },
  {
   "cell_type": "code",
   "execution_count": null,
   "id": "2601945c",
   "metadata": {},
   "outputs": [],
   "source": []
  }
 ],
 "metadata": {
  "kernelspec": {
   "display_name": "Python 3 (ipykernel)",
   "language": "python",
   "name": "python3"
  },
  "language_info": {
   "codemirror_mode": {
    "name": "ipython",
    "version": 3
   },
   "file_extension": ".py",
   "mimetype": "text/x-python",
   "name": "python",
   "nbconvert_exporter": "python",
   "pygments_lexer": "ipython3",
   "version": "3.9.12"
  }
 },
 "nbformat": 4,
 "nbformat_minor": 5
}
