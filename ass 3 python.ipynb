{
 "cells": [
  {
   "cell_type": "code",
   "execution_count": 3,
   "id": "41d3db83",
   "metadata": {},
   "outputs": [
    {
     "name": "stdout",
     "output_type": "stream",
     "text": [
      "sum of all elements in given list: 15\n"
     ]
    }
   ],
   "source": [
    "#write apython program to sum all item in a list\n",
    "list=[1,2,3,4,5]\n",
    "total=sum(list)\n",
    "print(\"sum of all elements in given list:\",total)"
   ]
  },
  {
   "cell_type": "code",
   "execution_count": 4,
   "id": "4ea03c4e",
   "metadata": {},
   "outputs": [
    {
     "name": "stdout",
     "output_type": "stream",
     "text": [
      "120\n"
     ]
    }
   ],
   "source": [
    "#write a python program to multiplies all the item in a list\n",
    "import numpy\n",
    "list=[1,2,3,4,5]\n",
    "result=numpy.prod(list)\n",
    "print(result)"
   ]
  },
  {
   "cell_type": "code",
   "execution_count": 1,
   "id": "ed5e6313",
   "metadata": {},
   "outputs": [
    {
     "name": "stdout",
     "output_type": "stream",
     "text": [
      "[(2, 1), (1, 2), (2, 3), (4, 4), (2, 5)]\n"
     ]
    }
   ],
   "source": [
    "#python program to get a list,sorted in increasing order by the last element in each tupple from a given list of non empty tuples.\n",
    "def last(n):\n",
    "    return n[-1]\n",
    "def sort_list_last(tuples):\n",
    "    return sorted(tuples,key=last)\n",
    "print(sort_list_last([(2,5),(1,2),(4,4),(2,3),(2,1)]))\n",
    "\n",
    "\n",
    "     "
   ]
  },
  {
   "cell_type": "code",
   "execution_count": 5,
   "id": "27cc6693",
   "metadata": {},
   "outputs": [
    {
     "name": "stdout",
     "output_type": "stream",
     "text": [
      "(10, 0, 30)\n"
     ]
    }
   ],
   "source": [
    "#write a python program to create a tuple\n",
    "tup=(10,0,30)\n",
    "print(tup)"
   ]
  },
  {
   "cell_type": "code",
   "execution_count": 7,
   "id": "2df309fa",
   "metadata": {},
   "outputs": [
    {
     "name": "stdout",
     "output_type": "stream",
     "text": [
      "(20, 'gauri', 5.5, 'bhand')\n"
     ]
    }
   ],
   "source": [
    "#write a python program to create a tuple with differnt data types\n",
    "tup1=(20,'gauri',5.5,'bhand')\n",
    "print(tup1)"
   ]
  },
  {
   "cell_type": "code",
   "execution_count": 8,
   "id": "48acb9c7",
   "metadata": {},
   "outputs": [
    {
     "name": "stdout",
     "output_type": "stream",
     "text": [
      "False\n"
     ]
    }
   ],
   "source": [
    "#write a python program to check wheter an elements exits within a tuple\n",
    "tup=(1,2,3,4)\n",
    "print(5 in tup)"
   ]
  },
  {
   "cell_type": "code",
   "execution_count": 2,
   "id": "1e89ed4c",
   "metadata": {},
   "outputs": [
    {
     "name": "stdout",
     "output_type": "stream",
     "text": [
      "{2, 4, 6, 8, 10}\n"
     ]
    }
   ],
   "source": [
    "#python program to create a set.\n",
    "s1={2,4,6,8,10}\n",
    "print(s1)\n"
   ]
  },
  {
   "cell_type": "code",
   "execution_count": 3,
   "id": "6a186fc6",
   "metadata": {},
   "outputs": [
    {
     "name": "stdout",
     "output_type": "stream",
     "text": [
      "0 1 2 3 4 5 "
     ]
    }
   ],
   "source": [
    "#python program to iterate over sets.\n",
    "num_set={0,1,2,3,4,5}\n",
    "for value,char in enumerate(num_set):\n",
    "    print(char,end=' ')\n"
   ]
  },
  {
   "cell_type": "code",
   "execution_count": 4,
   "id": "055808e0",
   "metadata": {},
   "outputs": [
    {
     "name": "stdout",
     "output_type": "stream",
     "text": [
      "\n",
      "Original sets:\n",
      "{1, 2, 3, 4, 5}\n",
      "{1, 5, 6, 7, 8, 9}\n",
      "{3, 4, 5, 9, 10}\n",
      "{5, 7, 9, 10, 12, 14}\n",
      "\n",
      "Difference of setn1 - setn2,setn3,setn4:\n",
      "{2}\n",
      "\n",
      "Difference of setn4 - setn1,setn2,setn3:\n",
      "{12, 14}\n"
     ]
    }
   ],
   "source": [
    "#python program to create a set difference.\n",
    "setn1 = set([1, 1, 2, 3, 4, 5])\n",
    "setn2 = set([1, 5, 6, 7, 8, 9])\n",
    "setn3 = set([3, 4, 5, 3, 9, 10])\n",
    "setn4 = set([5, 7, 9, 10, 12, 14])\n",
    "print(\"\\nOriginal sets:\")\n",
    "print(setn1)\n",
    "print(setn2)\n",
    "print(setn3)\n",
    "print(setn4)\n",
    "print(\"\\nDifference of setn1 - setn2,setn3,setn4:\")\n",
    "r1 = setn1.difference(setn2,setn3,setn4)\n",
    "print(r1)\n",
    "print(\"\\nDifference of setn4 - setn1,setn2,setn3:\")\n",
    "r2 = setn4.difference(setn1,setn2,setn3)\n",
    "print(r2)"
   ]
  },
  {
   "cell_type": "code",
   "execution_count": 5,
   "id": "f10efa80",
   "metadata": {},
   "outputs": [
    {
     "name": "stdout",
     "output_type": "stream",
     "text": [
      "{6: 3, 5: 4, 1: 6}\n"
     ]
    }
   ],
   "source": [
    "#python script to sort a dictionary by value.\n",
    "dt = {5:4, 1:6, 6:3}\n",
    "\n",
    "sorted_dt = {key: value for key, value in sorted(dt.items(), key=lambda item: item[1])}\n",
    "\n",
    "print(sorted_dt)\n",
    "\n"
   ]
  },
  {
   "cell_type": "code",
   "execution_count": 6,
   "id": "6436d6c2",
   "metadata": {},
   "outputs": [
    {
     "name": "stdout",
     "output_type": "stream",
     "text": [
      "{0: 10, 1: 20}\n",
      "{0: 10, 1: 20, 2: 30}\n"
     ]
    }
   ],
   "source": [
    "#python script to add a key to a dictionary.\n",
    "d = {0:10, 1:20}\n",
    "print(d)\n",
    "d.update({2:30})\n",
    "print(d)\n",
    "\n"
   ]
  },
  {
   "cell_type": "code",
   "execution_count": 7,
   "id": "205edab8",
   "metadata": {},
   "outputs": [
    {
     "name": "stdout",
     "output_type": "stream",
     "text": [
      "a juice\n",
      "b milkshake\n",
      "c chocolate\n"
     ]
    }
   ],
   "source": [
    "#python program to iterate over dictionaries over for loop.\n",
    "dt = {'a': 'juice', 'b': 'milkshake', 'c': 'chocolate'}\n",
    "\n",
    "for key in dt:\n",
    "    print(key,dt[key])\n"
   ]
  },
  {
   "cell_type": "code",
   "execution_count": 8,
   "id": "ed9cd354",
   "metadata": {},
   "outputs": [
    {
     "name": "stdout",
     "output_type": "stream",
     "text": [
      "[2, 4, 5, 10, 20]\n"
     ]
    }
   ],
   "source": [
    "#python program to remove duplicates from a list.\n",
    "duplicate=[2,4,10,20,5,2,20,4]\n",
    "print(list(set(duplicate)))\n"
   ]
  },
  {
   "cell_type": "code",
   "execution_count": 9,
   "id": "543df276",
   "metadata": {},
   "outputs": [
    {
     "name": "stdout",
     "output_type": "stream",
     "text": [
      "non empty\n"
     ]
    }
   ],
   "source": [
    "#python program  to check a list is empty or not.\n",
    "list=['gauri','babasaheb','bhand']\n",
    "if len(list)>0 :\n",
    "    print(\"non empty\")\n",
    "else:\n",
    "    print(\"empty\")\n"
   ]
  },
  {
   "cell_type": "code",
   "execution_count": 10,
   "id": "71894b8f",
   "metadata": {},
   "outputs": [
    {
     "name": "stdout",
     "output_type": "stream",
     "text": [
      "(1, 2, 3, 4)\n"
     ]
    }
   ],
   "source": [
    "#python program to convert a list to a tuple.\n",
    "def convert(list): \n",
    "\n",
    "    return tuple(list) \n",
    "\n",
    "list = [1, 2, 3, 4] \n",
    "\n",
    "print(convert(list))\n"
   ]
  },
  {
   "cell_type": "code",
   "execution_count": 11,
   "id": "cb9c6d60",
   "metadata": {},
   "outputs": [
    {
     "name": "stdout",
     "output_type": "stream",
     "text": [
      "Tuple Items =  (9, 11, 22, 45, 67, 89, 15, 25, 19)\n",
      "After Removing 4th Tuple Item =  (9, 11, 22, 67, 89, 15, 25, 19)\n",
      "After Removing 5th and 6th Tuple Item =  (9, 11, 22, 67, 89, 19)\n"
     ]
    }
   ],
   "source": [
    "#python program to Remove an Item from Tuple\n",
    "\n",
    "numTuple = (9, 11, 22, 45, 67, 89, 15, 25, 19)\n",
    "print(\"Tuple Items = \", numTuple)\n",
    "\n",
    "numTuple = numTuple[:3] + numTuple[4:]\n",
    "print(\"After Removing 4th Tuple Item = \", numTuple)\n",
    "\n",
    "numTuple = numTuple[:5] + numTuple[7:]\n",
    "print(\"After Removing 5th and 6th Tuple Item = \",numTuple)\n"
   ]
  },
  {
   "cell_type": "code",
   "execution_count": 12,
   "id": "97045120",
   "metadata": {},
   "outputs": [
    {
     "name": "stdout",
     "output_type": "stream",
     "text": [
      "Sliced Tuple : (2, 5, 8, 1)\n"
     ]
    }
   ],
   "source": [
    "#python program to slice a tuple\n",
    "Tuple = (2, 5, 8, 1, 9, 3, 7, 4)\n",
    "stop = 4\n",
    "indices = slice(stop)\n",
    "result = Tuple[indices]\n",
    "print('Sliced Tuple :', result)\n"
   ]
  },
  {
   "cell_type": "code",
   "execution_count": 14,
   "id": "fb803f25",
   "metadata": {},
   "outputs": [
    {
     "name": "stdout",
     "output_type": "stream",
     "text": [
      "('g', 'a', 'u', 'r', 'i')\n",
      "5\n"
     ]
    }
   ],
   "source": [
    "#python program to find the length of a tuple.\n",
    "tuplex=tuple('gauri')\n",
    "print(tuplex)\n",
    "print(len(tuplex))\n"
   ]
  },
  {
   "cell_type": "code",
   "execution_count": 15,
   "id": "1e05b125",
   "metadata": {},
   "outputs": [
    {
     "name": "stdout",
     "output_type": "stream",
     "text": [
      "x:  {'apple', 'mango'}\n",
      "y:  {'orange', 'mango'}\n",
      "z:  {'mango'} \n",
      "\n",
      "If x is subset of y\n",
      "False\n",
      "False\n",
      "If y is subset of x\n",
      "False\n",
      "False\n",
      "\n",
      "If y is subset of z\n",
      "False\n",
      "False\n",
      "If z is subset of y\n",
      "True\n",
      "True\n"
     ]
    }
   ],
   "source": [
    "#python program to check if a set is a subset of a another set.\n",
    "setx = set([\"apple\", \"mango\"])\n",
    "sety = set([\"mango\", \"orange\"])\n",
    "setz = set([\"mango\"])\n",
    "print(\"x: \",setx)\n",
    "print(\"y: \",sety)\n",
    "print(\"z: \",setz,\"\\n\")\n",
    "print(\"If x is subset of y\")\n",
    "print(setx <= sety)\n",
    "print(setx.issubset(sety))\n",
    "print(\"If y is subset of x\")\n",
    "print(sety <= setx)\n",
    "print(sety.issubset(setx))\n",
    "print(\"\\nIf y is subset of z\")\n",
    "print(sety <= setz)\n",
    "print(sety.issubset(setz))\n",
    "print(\"If z is subset of y\")\n",
    "print(setz <= sety)\n",
    "print(setz.issubset(sety))\n",
    "\n"
   ]
  },
  {
   "cell_type": "code",
   "execution_count": 16,
   "id": "9ec6158b",
   "metadata": {},
   "outputs": [
    {
     "name": "stdout",
     "output_type": "stream",
     "text": [
      "Original set elements:\n",
      "{2, 3, 20, 5, 10, 15}\n",
      "<class 'set'>\n",
      "\n",
      "Maximum value of the set:\n",
      "20\n",
      "\n",
      "Minimum value of the set:\n",
      "2\n"
     ]
    }
   ],
   "source": [
    "#python program to find maximum and the minimum value in a set.\n",
    "setn = {5, 10, 3, 15, 2, 20}\n",
    "print(\"Original set elements:\")\n",
    "print(setn)\n",
    "print(type(setn))\n",
    "print(\"\\nMaximum value of the set:\")\n",
    "print(max(setn))\n",
    "print(\"\\nMinimum value of the set:\")\n",
    "print(min(setn))\n"
   ]
  },
  {
   "cell_type": "code",
   "execution_count": 17,
   "id": "2670377a",
   "metadata": {},
   "outputs": [
    {
     "name": "stdout",
     "output_type": "stream",
     "text": [
      "the length of set is: 5\n"
     ]
    }
   ],
   "source": [
    "#python program to find the length of a set.\n",
    "n=len({1,2,3,4,5})\n",
    "print(\"the length of set is:\",n)\n",
    "\n",
    "\n"
   ]
  },
  {
   "cell_type": "code",
   "execution_count": 18,
   "id": "0b8f0182",
   "metadata": {},
   "outputs": [
    {
     "name": "stdout",
     "output_type": "stream",
     "text": [
      "{'a': 100, 'b': 200, 'x': 300, 'y': 200}\n"
     ]
    }
   ],
   "source": [
    "#python program to merge a two python dictionaries.\n",
    "d1 = {'a': 100, 'b': 200}\n",
    "d2 = {'x': 300, 'y': 200}\n",
    "d = d1.copy()\n",
    "d.update(d2)\n",
    "print(d)\n"
   ]
  },
  {
   "cell_type": "code",
   "execution_count": null,
   "id": "f1e9044a",
   "metadata": {},
   "outputs": [],
   "source": []
  }
 ],
 "metadata": {
  "kernelspec": {
   "display_name": "Python 3 (ipykernel)",
   "language": "python",
   "name": "python3"
  },
  "language_info": {
   "codemirror_mode": {
    "name": "ipython",
    "version": 3
   },
   "file_extension": ".py",
   "mimetype": "text/x-python",
   "name": "python",
   "nbconvert_exporter": "python",
   "pygments_lexer": "ipython3",
   "version": "3.9.12"
  }
 },
 "nbformat": 4,
 "nbformat_minor": 5
}
