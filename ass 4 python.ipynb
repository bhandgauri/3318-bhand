{
 "cells": [
  {
   "cell_type": "code",
   "execution_count": 13,
   "id": "e47ccaef",
   "metadata": {},
   "outputs": [
    {
     "name": "stdout",
     "output_type": "stream",
     "text": [
      "Lines: 6\n",
      "Words: 15\n",
      "Symbols: 127\n"
     ]
    }
   ],
   "source": [
    "#python program to read an entire text file.\n",
    "file = open('adi.py')\n",
    "\n",
    "lines = 0\n",
    "words = 0\n",
    "symbols = 0\n",
    "\n",
    "for line in file:\n",
    "    lines += 1\n",
    "    words += len(line.split())\n",
    "    symbols += len(line.strip('\\n'))\n",
    "\n",
    "print(\"Lines:\", lines)\n",
    "print(\"Words:\", words)\n",
    "print(\"Symbols:\", symbols)"
   ]
  },
  {
   "cell_type": "code",
   "execution_count": 14,
   "id": "20c4bad7",
   "metadata": {},
   "outputs": [
    {
     "name": "stdout",
     "output_type": "stream",
     "text": [
      "s=input(\"Enter string:\")\n",
      "w=s.split()\n",
      "print(\"words are even in length:\")\n",
      "for s1 in w:\n",
      "    if(len(s1)%2==0):\n",
      "        print(s1,end=\" \")\n",
      "\n"
     ]
    }
   ],
   "source": [
    "#write a python programto compute the number of character ,words and lines in a file.\n",
    "def file_read(fname):\n",
    "        txt = open(fname)\n",
    "        print(txt.read())\n",
    "file_read('adi.py')"
   ]
  },
  {
   "cell_type": "code",
   "execution_count": 16,
   "id": "07b1430c",
   "metadata": {},
   "outputs": [
    {
     "name": "stdout",
     "output_type": "stream",
     "text": [
      "Sat Dec 03 16:57:43 India Standard Time 2022\n"
     ]
    }
   ],
   "source": [
    "#python script to print the current date in the following format.\n",
    "# \"Sun May 29 02:26:23 IST 2017\"\n",
    "import time; \n",
    "ltime=time.localtime();\n",
    "print(time.strftime(\"%a %b %d %H:%M:%S %Z %Y\",ltime));"
   ]
  },
  {
   "cell_type": "code",
   "execution_count": 17,
   "id": "fa5bb24f",
   "metadata": {},
   "outputs": [
    {
     "name": "stdout",
     "output_type": "stream",
     "text": [
      "s=input(\"Enter string:\")\n",
      "w=s.split()\n",
      "print(\"words are even in length:\")\n",
      "for s1 in w:\n",
      "    if(len(s1)%2==0):\n",
      "        print(s1,end=\" \")\n",
      "appending line 1, appending line 2. \n"
     ]
    }
   ],
   "source": [
    "#python program to append text to a file and display the text.\n",
    "def Appendtext(fname):\n",
    "    with open(fname,'a+') as f:\n",
    "    f.write('appending line 1, ')\n",
    "         f.write('appending line 2. ')\n",
    "    f.close()\n",
    "Appendtext('adi.py')\n",
    "\n",
    "x= open('adi.py')\n",
    "print(x.read())"
   ]
  },
  {
   "cell_type": "code",
   "execution_count": 18,
   "id": "579e9d13",
   "metadata": {},
   "outputs": [
    {
     "name": "stdout",
     "output_type": "stream",
     "text": [
      "Enter file name: adi.py\n",
      "appending line 1, appending line 2.\n",
      "        print(s1,end=\" \")\n",
      "    if(len(s1)%2==0):\n",
      "for s1 in w:\n",
      "print(\"words are even in length:\")\n",
      "w=s.split()\n",
      "s=input(\"Enter string:\")\n"
     ]
    }
   ],
   "source": [
    "#python program to print each line of a file in reverse order.\n",
    "filename=input(\"Enter file name: \")\n",
    "for line in reversed(list(open(filename))):\n",
    "    print(line.rstrip())"
   ]
  },
  {
   "cell_type": "code",
   "execution_count": 19,
   "id": "ed7e0759",
   "metadata": {},
   "outputs": [
    {
     "name": "stdout",
     "output_type": "stream",
     "text": [
      "Current date and time : \n",
      "2022-12-03 17:06:26\n"
     ]
    }
   ],
   "source": [
    "#python program to print date,time for today and now.\n",
    "import datetime\n",
    "now = datetime.datetime.now()\n",
    "print (\"Current date and time : \")\n",
    "print (now.strftime(\"%Y-%m-%d %H:%M:%S\"))"
   ]
  }
 ],
 "metadata": {
  "kernelspec": {
   "display_name": "Python 3 (ipykernel)",
   "language": "python",
   "name": "python3"
  },
  "language_info": {
   "codemirror_mode": {
    "name": "ipython",
    "version": 3
   },
   "file_extension": ".py",
   "mimetype": "text/x-python",
   "name": "python",
   "nbconvert_exporter": "python",
   "pygments_lexer": "ipython3",
   "version": "3.9.13"
  }
 },
 "nbformat": 4,
 "nbformat_minor": 5
}
