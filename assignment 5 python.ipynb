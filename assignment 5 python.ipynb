{
 "cells": [
  {
   "cell_type": "code",
   "execution_count": 1,
   "id": "0c5f1caf",
   "metadata": {},
   "outputs": [
    {
     "name": "stdout",
     "output_type": "stream",
     "text": [
      "found a match!\n",
      "not matched!\n",
      "not matched!\n"
     ]
    }
   ],
   "source": [
    "#write a python program to find sequences of lowercase letters joined with a underscore\n",
    "import re\n",
    "def text_match(text):\n",
    "    patterns='^[a-z]+_[a-z]+$'\n",
    "    if re.search(patterns,text):\n",
    "        return 'found a match!'\n",
    "    else:\n",
    "        return 'not matched!'\n",
    "print(text_match(\"aab_cbbc\"))\n",
    "print(text_match(\"aab_Abbc\"))\n",
    "print(text_match(\"Aaab_abbbc\"))"
   ]
  },
  {
   "cell_type": "code",
   "execution_count": 2,
   "id": "8d4e8d7a",
   "metadata": {},
   "outputs": [
    {
     "name": "stdout",
     "output_type": "stream",
     "text": [
      "valid string\n",
      "invalid string\n"
     ]
    }
   ],
   "source": [
    "#write a python program to check if string contain only defined characters usingvre rgex\n",
    "import re\n",
    "def check(str,pattern):\n",
    "    if re.search(pattern,str):\n",
    "        print(\"valid string\")\n",
    "    else:\n",
    "        print(\"invalid string\")\n",
    "pattern=re.compile('^[1234]+$')\n",
    "check('2134',pattern)\n",
    "check('349',pattern)"
   ]
  },
  {
   "cell_type": "code",
   "execution_count": 8,
   "id": "810adbc9",
   "metadata": {},
   "outputs": [
    {
     "name": "stdout",
     "output_type": "stream",
     "text": [
      "not matched!\n",
      "not matched!\n"
     ]
    }
   ],
   "source": [
    "#write a python program to match a string that contain only upper and lowercase letters,number,and  underscore.\n",
    "import re\n",
    "def text_match(text):\n",
    "    patterns='^[a-zA-Z0-9_]*$'\n",
    "    if re.search(patterns,text):\n",
    "        return 'found a match!'\n",
    "    else:\n",
    "        return 'not matched!'\n",
    "print(text_match(\"the quick brown fox jumps over the lazy dog.\"))\n",
    "print(text_match(\"python exercises_1\"))\n"
   ]
  },
  {
   "cell_type": "code",
   "execution_count": 14,
   "id": "6c1bff71",
   "metadata": {},
   "outputs": [
    {
     "name": "stdout",
     "output_type": "stream",
     "text": [
      "python\n",
      "python is\n",
      "python is great\n",
      "python is great and\n",
      "python is great and java\n",
      "python is great and java\n",
      "python is great and java also\n",
      "python is great and java also\n"
     ]
    }
   ],
   "source": [
    "#write a python program to remove dplicate words from sentence\n",
    "s=\"python is great and java is also great\"\n",
    "l=s.split()\n",
    "k=[]\n",
    "for i in l:\n",
    "    if(s.count(i)>=1  and(i not   in k)):\n",
    "        k.append(i)\n",
    "    print(' '.join(k))"
   ]
  },
  {
   "cell_type": "code",
   "execution_count": 15,
   "id": "8291b924",
   "metadata": {},
   "outputs": [
    {
     "name": "stdout",
     "output_type": "stream",
     "text": [
      "initial string: abcjw:, .@! eiw\n",
      "final string  :, .@!  \n"
     ]
    }
   ],
   "source": [
    "#write a python to remove all character except letters and numbers\n",
    "import re\n",
    "ini_string=\"abcjw:, .@! eiw\"\n",
    "print(\"initial string:\",ini_string)\n",
    "result=re.sub('[\\w_]+',' ',ini_string)\n",
    "print(\"final string\",result)"
   ]
  },
  {
   "cell_type": "code",
   "execution_count": null,
   "id": "a95a9c4d",
   "metadata": {},
   "outputs": [],
   "source": []
  }
 ],
 "metadata": {
  "kernelspec": {
   "display_name": "Python 3 (ipykernel)",
   "language": "python",
   "name": "python3"
  },
  "language_info": {
   "codemirror_mode": {
    "name": "ipython",
    "version": 3
   },
   "file_extension": ".py",
   "mimetype": "text/x-python",
   "name": "python",
   "nbconvert_exporter": "python",
   "pygments_lexer": "ipython3",
   "version": "3.9.12"
  }
 },
 "nbformat": 4,
 "nbformat_minor": 5
}
